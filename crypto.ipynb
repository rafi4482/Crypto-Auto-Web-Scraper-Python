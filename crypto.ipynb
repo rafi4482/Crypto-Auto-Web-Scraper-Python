{
 "cells": [
  {
   "cell_type": "code",
   "execution_count": 111,
   "metadata": {},
   "outputs": [],
   "source": [
    "from datetime import datetime\n",
    "from bs4 import BeautifulSoup \n",
    "import os\n",
    "import requests\n",
    "import pandas as pd\n",
    "import time"
   ]
  },
  {
   "cell_type": "code",
   "execution_count": 115,
   "metadata": {},
   "outputs": [],
   "source": [
    "url = \"https://coinmarketcap.com/currencies/bitcoin\"\n",
    "\n",
    "page = requests.get(url)\n",
    "\n",
    "soup = BeautifulSoup(page.text,'html')\n",
    "\n",
    "crypto_name=soup.find('span', class_='sc-65e7f566-0 lsTl').text.split()[0]\n",
    "\n",
    "crypto_price = soup.find('span', class_='sc-65e7f566-0 clvjgF base-text').text\n",
    "\n",
    "crypto_final_price = crypto_price.replace('$', '')\n",
    "\n",
    "date_time=datetime.now()\n",
    "\n",
    "crypto_dict = {\n",
    "  'Crypto Name': crypto_name,\n",
    "  'Crypto Price': crypto_final_price,\n",
    "  'Date and Time': date_time\n",
    "}\n",
    "\n",
    "df=pd.DataFrame([crypto_dict])\n",
    "\n",
    "if os.path.exists(r\"D:\\Crypto_Bitcoin_Scraped_Data\\Crypto_Automated_Pull.csv\"):\n",
    "    df.to_csv(r\"D:\\Crypto_Bitcoin_Scraped_Data\\Crypto_Automated_Pull.csv\",mode='a',header=False)\n",
    "else:   \n",
    "    df.to_csv(r\"D:\\Crypto_Bitcoin_Scraped_Data\\Crypto_Automated_Pull.csv\")\n"
   ]
  }
 ],
 "metadata": {
  "kernelspec": {
   "display_name": "Python 3",
   "language": "python",
   "name": "python3"
  },
  "language_info": {
   "codemirror_mode": {
    "name": "ipython",
    "version": 3
   },
   "file_extension": ".py",
   "mimetype": "text/x-python",
   "name": "python",
   "nbconvert_exporter": "python",
   "pygments_lexer": "ipython3",
   "version": "3.12.3"
  }
 },
 "nbformat": 4,
 "nbformat_minor": 2
}
